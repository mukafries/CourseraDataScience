{
 "cells": [
  {
   "cell_type": "markdown",
   "id": "09d1a669-7ed1-48f7-bb9d-ad08f96dcb66",
   "metadata": {
    "tags": []
   },
   "source": [
    "# Data Science Tools and Ecosystem"
   ]
  },
  {
   "cell_type": "markdown",
   "id": "011935cb-c6b4-4e3b-9c4e-8cf7ff86785c",
   "metadata": {},
   "source": [
    "In this notebook, Data Science Tools and Ecosystem are summarized."
   ]
  },
  {
   "cell_type": "markdown",
   "id": "a434b103-3b7c-47ca-b40b-b7a6bc2d2875",
   "metadata": {},
   "source": [
    "Objectives:\n",
    "- List of popular languages used by Data Scientists\n",
    "- Commonly used libraries by Data Scientists\n",
    "- Data Science Tools\n",
    "- Evaluating arithmetic expressions in python"
   ]
  },
  {
   "cell_type": "markdown",
   "id": "1123bbec-393a-4f03-b823-c178d5961298",
   "metadata": {},
   "source": [
    "Some of the popular languages that Data Scientists use are:\n",
    "1. R\n",
    "2. Python\n",
    "3. Julia"
   ]
  },
  {
   "cell_type": "markdown",
   "id": "af079cab-9b2f-469b-a92a-f17283411e46",
   "metadata": {},
   "source": [
    "Some of the commonly used libraries used by Data Scientists include:\n",
    "1. Pytorch\n",
    "2. Dplyr\n",
    "3. ggplot2\n",
    "4. Pandas\n",
    "5. NumPy"
   ]
  },
  {
   "cell_type": "markdown",
   "id": "fbefc633-2a2d-4e8e-bc93-6d7a550c3e17",
   "metadata": {},
   "source": [
    "|Data Science Tools|\n",
    "|------------------|\n",
    "|Jupyter Notebooks|\n",
    "|Apache Zeppelin|\n",
    "|RStudio|\n"
   ]
  },
  {
   "cell_type": "markdown",
   "id": "6b46c475-7646-4fad-88f7-161f720ec1f9",
   "metadata": {},
   "source": [
    "### Below are a few examples of evaluating arithmetic expressions in Python"
   ]
  },
  {
   "cell_type": "code",
   "execution_count": 4,
   "id": "23536502-5816-495b-adbc-aff5d01e1dee",
   "metadata": {
    "tags": []
   },
   "outputs": [
    {
     "data": {
      "text/plain": [
       "17"
      ]
     },
     "execution_count": 4,
     "metadata": {},
     "output_type": "execute_result"
    }
   ],
   "source": [
    "# This a simple arithmetic expression to mutiply then add integers\n",
    "(3*4)+5"
   ]
  },
  {
   "cell_type": "code",
   "execution_count": 5,
   "id": "00a49d88-7eed-406f-b4c0-620845f30bf2",
   "metadata": {
    "tags": []
   },
   "outputs": [
    {
     "data": {
      "text/plain": [
       "3.3333333333333335"
      ]
     },
     "execution_count": 5,
     "metadata": {},
     "output_type": "execute_result"
    }
   ],
   "source": [
    "# This will convert 200 minutes to hours by diving by 60\n",
    "200/60"
   ]
  },
  {
   "cell_type": "markdown",
   "id": "c984be59-40d0-40a2-b4c5-6cdc033a0596",
   "metadata": {},
   "source": [
    "## Author\n",
    "Adeyemi Blessing"
   ]
  },
  {
   "cell_type": "code",
   "execution_count": null,
   "id": "a560765f-8864-46b1-ac2d-0c0b9fe133f3",
   "metadata": {},
   "outputs": [],
   "source": []
  }
 ],
 "metadata": {
  "kernelspec": {
   "display_name": "Python",
   "language": "python",
   "name": "conda-env-python-py"
  },
  "language_info": {
   "codemirror_mode": {
    "name": "ipython",
    "version": 3
   },
   "file_extension": ".py",
   "mimetype": "text/x-python",
   "name": "python",
   "nbconvert_exporter": "python",
   "pygments_lexer": "ipython3",
   "version": "3.7.12"
  }
 },
 "nbformat": 4,
 "nbformat_minor": 5
}
